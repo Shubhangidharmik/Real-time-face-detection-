{
 "cells": [
  {
   "cell_type": "code",
   "execution_count": 1,
   "id": "134612a6",
   "metadata": {},
   "outputs": [],
   "source": [
    "import sys, os\n",
    "import pandas as pd\n",
    "import numpy as np\n",
    "\n",
    "from keras.models import Sequential\n",
    "from keras.layers import Dense, Dropout, Activation, Flatten\n",
    "from keras.layers import Conv2D, MaxPooling2D, BatchNormalization,AveragePooling2D\n",
    "from keras.losses import categorical_crossentropy\n",
    "from keras.optimizers import Adam\n",
    "from keras.regularizers import l2\n",
    "from keras.utils import np_utils"
   ]
  },
  {
   "cell_type": "code",
   "execution_count": 2,
   "id": "4b9e8302",
   "metadata": {},
   "outputs": [],
   "source": [
    "df=pd.read_csv(r'C:\\Users\\shubhangi\\github\\Realtime face\\fer2013.csv')"
   ]
  },
  {
   "cell_type": "code",
   "execution_count": 3,
   "id": "d3f1f344",
   "metadata": {},
   "outputs": [
    {
     "data": {
      "text/html": [
       "<div>\n",
       "<style scoped>\n",
       "    .dataframe tbody tr th:only-of-type {\n",
       "        vertical-align: middle;\n",
       "    }\n",
       "\n",
       "    .dataframe tbody tr th {\n",
       "        vertical-align: top;\n",
       "    }\n",
       "\n",
       "    .dataframe thead th {\n",
       "        text-align: right;\n",
       "    }\n",
       "</style>\n",
       "<table border=\"1\" class=\"dataframe\">\n",
       "  <thead>\n",
       "    <tr style=\"text-align: right;\">\n",
       "      <th></th>\n",
       "      <th>emotion</th>\n",
       "      <th>pixels</th>\n",
       "      <th>Usage</th>\n",
       "    </tr>\n",
       "  </thead>\n",
       "  <tbody>\n",
       "    <tr>\n",
       "      <th>0</th>\n",
       "      <td>0</td>\n",
       "      <td>70 80 82 72 58 58 60 63 54 58 60 48 89 115 121...</td>\n",
       "      <td>Training</td>\n",
       "    </tr>\n",
       "    <tr>\n",
       "      <th>1</th>\n",
       "      <td>0</td>\n",
       "      <td>151 150 147 155 148 133 111 140 170 174 182 15...</td>\n",
       "      <td>Training</td>\n",
       "    </tr>\n",
       "    <tr>\n",
       "      <th>2</th>\n",
       "      <td>2</td>\n",
       "      <td>231 212 156 164 174 138 161 173 182 200 106 38...</td>\n",
       "      <td>Training</td>\n",
       "    </tr>\n",
       "    <tr>\n",
       "      <th>3</th>\n",
       "      <td>4</td>\n",
       "      <td>24 32 36 30 32 23 19 20 30 41 21 22 32 34 21 1...</td>\n",
       "      <td>Training</td>\n",
       "    </tr>\n",
       "    <tr>\n",
       "      <th>4</th>\n",
       "      <td>6</td>\n",
       "      <td>4 0 0 0 0 0 0 0 0 0 0 0 3 15 23 28 48 50 58 84...</td>\n",
       "      <td>Training</td>\n",
       "    </tr>\n",
       "  </tbody>\n",
       "</table>\n",
       "</div>"
      ],
      "text/plain": [
       "   emotion                                             pixels     Usage\n",
       "0        0  70 80 82 72 58 58 60 63 54 58 60 48 89 115 121...  Training\n",
       "1        0  151 150 147 155 148 133 111 140 170 174 182 15...  Training\n",
       "2        2  231 212 156 164 174 138 161 173 182 200 106 38...  Training\n",
       "3        4  24 32 36 30 32 23 19 20 30 41 21 22 32 34 21 1...  Training\n",
       "4        6  4 0 0 0 0 0 0 0 0 0 0 0 3 15 23 28 48 50 58 84...  Training"
      ]
     },
     "execution_count": 3,
     "metadata": {},
     "output_type": "execute_result"
    }
   ],
   "source": [
    "df.head()"
   ]
  },
  {
   "cell_type": "code",
   "execution_count": 4,
   "id": "65d9176d",
   "metadata": {},
   "outputs": [
    {
     "name": "stdout",
     "output_type": "stream",
     "text": [
      "<class 'pandas.core.frame.DataFrame'>\n",
      "RangeIndex: 35887 entries, 0 to 35886\n",
      "Data columns (total 3 columns):\n",
      " #   Column   Non-Null Count  Dtype \n",
      "---  ------   --------------  ----- \n",
      " 0   emotion  35887 non-null  int64 \n",
      " 1   pixels   35887 non-null  object\n",
      " 2   Usage    35887 non-null  object\n",
      "dtypes: int64(1), object(2)\n",
      "memory usage: 841.2+ KB\n"
     ]
    }
   ],
   "source": [
    "df.info()"
   ]
  },
  {
   "cell_type": "code",
   "execution_count": 5,
   "id": "78b3148f",
   "metadata": {},
   "outputs": [
    {
     "data": {
      "text/plain": [
       "Training       28709\n",
       "PublicTest      3589\n",
       "PrivateTest     3589\n",
       "Name: Usage, dtype: int64"
      ]
     },
     "execution_count": 5,
     "metadata": {},
     "output_type": "execute_result"
    }
   ],
   "source": [
    "df['Usage'].value_counts()"
   ]
  },
  {
   "cell_type": "code",
   "execution_count": 6,
   "id": "2b0fe9d2",
   "metadata": {},
   "outputs": [
    {
     "data": {
      "text/plain": [
       "3    8989\n",
       "6    6198\n",
       "4    6077\n",
       "2    5121\n",
       "0    4953\n",
       "5    4002\n",
       "1     547\n",
       "Name: emotion, dtype: int64"
      ]
     },
     "execution_count": 6,
     "metadata": {},
     "output_type": "execute_result"
    }
   ],
   "source": [
    "df['emotion'].value_counts()"
   ]
  },
  {
   "cell_type": "code",
   "execution_count": 7,
   "id": "1ea51d25",
   "metadata": {},
   "outputs": [],
   "source": [
    "X_train,train_y,X_test,test_y=[],[],[],[]"
   ]
  },
  {
   "cell_type": "code",
   "execution_count": 8,
   "id": "51eb865b",
   "metadata": {},
   "outputs": [],
   "source": [
    "for index, row in df.iterrows():\n",
    "    val=row['pixels'].split(\" \")\n",
    "    try:\n",
    "        if 'Training' in row['Usage']:\n",
    "           X_train.append(np.array(val,'float32'))\n",
    "           train_y.append(row['emotion'])\n",
    "        elif 'PublicTest' in row['Usage']:\n",
    "           X_test.append(np.array(val,'float32'))\n",
    "           test_y.append(row['emotion'])\n",
    "    except:\n",
    "        print(f\"error occured at index :{index} and row:{row}\")"
   ]
  },
  {
   "cell_type": "code",
   "execution_count": 9,
   "id": "4a3b745a",
   "metadata": {},
   "outputs": [],
   "source": [
    "num_features = 64\n",
    "num_labels = 7\n",
    "batch_size = 64\n",
    "epochs = 30\n",
    "width, height = 48, 48"
   ]
  },
  {
   "cell_type": "code",
   "execution_count": 10,
   "id": "9b8bd884",
   "metadata": {},
   "outputs": [],
   "source": [
    "X_train = np.array(X_train,'float32')\n",
    "train_y = np.array(train_y,'float32')\n",
    "X_test = np.array(X_test,'float32')\n",
    "test_y = np.array(test_y,'float32')"
   ]
  },
  {
   "cell_type": "code",
   "execution_count": 11,
   "id": "a5a9c466",
   "metadata": {},
   "outputs": [],
   "source": [
    "train_y=np_utils.to_categorical(train_y, num_classes=num_labels)\n",
    "test_y=np_utils.to_categorical(test_y, num_classes=num_labels)"
   ]
  },
  {
   "cell_type": "code",
   "execution_count": 12,
   "id": "27567878",
   "metadata": {},
   "outputs": [],
   "source": [
    "#normalizing data between 0 and 1\n",
    "X_train -= np.mean(X_train, axis=0)\n",
    "X_train /= np.std(X_train, axis=0)"
   ]
  },
  {
   "cell_type": "code",
   "execution_count": 13,
   "id": "72472633",
   "metadata": {},
   "outputs": [],
   "source": [
    "X_test -= np.mean(X_test, axis=0)\n",
    "X_test /= np.std(X_test, axis=0)"
   ]
  },
  {
   "cell_type": "code",
   "execution_count": 14,
   "id": "b56fce17",
   "metadata": {},
   "outputs": [],
   "source": [
    "X_train = X_train.reshape(X_train.shape[0], 48, 48, 1)"
   ]
  },
  {
   "cell_type": "code",
   "execution_count": 15,
   "id": "f5e64c0e",
   "metadata": {},
   "outputs": [],
   "source": [
    "X_test = X_test.reshape(X_test.shape[0], 48, 48, 1)"
   ]
  },
  {
   "cell_type": "code",
   "execution_count": 16,
   "id": "6dd5ebac",
   "metadata": {},
   "outputs": [
    {
     "name": "stdout",
     "output_type": "stream",
     "text": [
      "shape:(28709, 48, 48, 1)\n"
     ]
    }
   ],
   "source": [
    "print(f\"shape:{X_train.shape}\")"
   ]
  },
  {
   "cell_type": "code",
   "execution_count": 17,
   "id": "4478aaf8",
   "metadata": {},
   "outputs": [],
   "source": [
    "##designing the cnn\n",
    "#1st convolution layer\n",
    "model = Sequential()\n",
    "\n",
    "model.add(Conv2D(64, kernel_size=(3, 3), activation='relu', input_shape=(X_train.shape[1:])))\n",
    "model.add(Conv2D(64,kernel_size= (3, 3), activation='relu'))\n",
    "# model.add(BatchNormalization())\n",
    "model.add(MaxPooling2D(pool_size=(2,2), strides=(2, 2)))\n",
    "model.add(Dropout(0.5))\n",
    "\n",
    "#2nd convolution layer\n",
    "model.add(Conv2D(64, (3, 3), activation='relu'))\n",
    "model.add(Conv2D(64, (3, 3), activation='relu'))\n",
    "# model.add(BatchNormalization())\n",
    "model.add(MaxPooling2D(pool_size=(2,2), strides=(2, 2)))\n",
    "model.add(Dropout(0.5))\n",
    "\n",
    "#3rd convolution layer\n",
    "model.add(Conv2D(128, (3, 3), activation='relu'))\n",
    "model.add(Conv2D(128, (3, 3), activation='relu'))\n",
    "# model.add(BatchNormalization())\n",
    "model.add(MaxPooling2D(pool_size=(2,2), strides=(2, 2)))\n",
    "\n",
    "model.add(Flatten())\n",
    "\n",
    "#fully connected neural networks\n",
    "model.add(Dense(1024, activation='relu'))\n",
    "model.add(Dropout(0.2))\n",
    "model.add(Dense(1024, activation='relu'))\n",
    "model.add(Dropout(0.2))\n",
    "\n",
    "model.add(Dense(num_labels, activation='softmax'))"
   ]
  },
  {
   "cell_type": "code",
   "execution_count": 18,
   "id": "89c53949",
   "metadata": {},
   "outputs": [
    {
     "name": "stdout",
     "output_type": "stream",
     "text": [
      "Model: \"sequential\"\n",
      "_________________________________________________________________\n",
      "Layer (type)                 Output Shape              Param #   \n",
      "=================================================================\n",
      "conv2d (Conv2D)              (None, 46, 46, 64)        640       \n",
      "_________________________________________________________________\n",
      "conv2d_1 (Conv2D)            (None, 44, 44, 64)        36928     \n",
      "_________________________________________________________________\n",
      "max_pooling2d (MaxPooling2D) (None, 22, 22, 64)        0         \n",
      "_________________________________________________________________\n",
      "dropout (Dropout)            (None, 22, 22, 64)        0         \n",
      "_________________________________________________________________\n",
      "conv2d_2 (Conv2D)            (None, 20, 20, 64)        36928     \n",
      "_________________________________________________________________\n",
      "conv2d_3 (Conv2D)            (None, 18, 18, 64)        36928     \n",
      "_________________________________________________________________\n",
      "max_pooling2d_1 (MaxPooling2 (None, 9, 9, 64)          0         \n",
      "_________________________________________________________________\n",
      "dropout_1 (Dropout)          (None, 9, 9, 64)          0         \n",
      "_________________________________________________________________\n",
      "conv2d_4 (Conv2D)            (None, 7, 7, 128)         73856     \n",
      "_________________________________________________________________\n",
      "conv2d_5 (Conv2D)            (None, 5, 5, 128)         147584    \n",
      "_________________________________________________________________\n",
      "max_pooling2d_2 (MaxPooling2 (None, 2, 2, 128)         0         \n",
      "_________________________________________________________________\n",
      "flatten (Flatten)            (None, 512)               0         \n",
      "_________________________________________________________________\n",
      "dense (Dense)                (None, 1024)              525312    \n",
      "_________________________________________________________________\n",
      "dropout_2 (Dropout)          (None, 1024)              0         \n",
      "_________________________________________________________________\n",
      "dense_1 (Dense)              (None, 1024)              1049600   \n",
      "_________________________________________________________________\n",
      "dropout_3 (Dropout)          (None, 1024)              0         \n",
      "_________________________________________________________________\n",
      "dense_2 (Dense)              (None, 7)                 7175      \n",
      "=================================================================\n",
      "Total params: 1,914,951\n",
      "Trainable params: 1,914,951\n",
      "Non-trainable params: 0\n",
      "_________________________________________________________________\n"
     ]
    }
   ],
   "source": [
    "model.summary()"
   ]
  },
  {
   "cell_type": "code",
   "execution_count": 19,
   "id": "108ac1bf",
   "metadata": {},
   "outputs": [],
   "source": [
    "#Compliling the model\n",
    "model.compile(loss=categorical_crossentropy,\n",
    "              optimizer=Adam(),\n",
    "              metrics=['accuracy'])"
   ]
  },
  {
   "cell_type": "code",
   "execution_count": 20,
   "id": "ef65c706",
   "metadata": {},
   "outputs": [
    {
     "name": "stdout",
     "output_type": "stream",
     "text": [
      "Epoch 1/30\n",
      "449/449 [==============================] - 591s 1s/step - loss: 1.7054 - accuracy: 0.3029 - val_loss: 1.5343 - val_accuracy: 0.3915\n",
      "Epoch 2/30\n",
      "449/449 [==============================] - 627s 1s/step - loss: 1.4943 - accuracy: 0.4145 - val_loss: 1.3811 - val_accuracy: 0.4675\n",
      "Epoch 3/30\n",
      "449/449 [==============================] - 637s 1s/step - loss: 1.3928 - accuracy: 0.4584 - val_loss: 1.3026 - val_accuracy: 0.4943\n",
      "Epoch 4/30\n",
      "449/449 [==============================] - 573s 1s/step - loss: 1.3278 - accuracy: 0.4850 - val_loss: 1.2768 - val_accuracy: 0.5043\n",
      "Epoch 5/30\n",
      "449/449 [==============================] - 570s 1s/step - loss: 1.2768 - accuracy: 0.5109 - val_loss: 1.2389 - val_accuracy: 0.5308\n",
      "Epoch 6/30\n",
      "449/449 [==============================] - 550s 1s/step - loss: 1.2428 - accuracy: 0.5234 - val_loss: 1.2004 - val_accuracy: 0.5408\n",
      "Epoch 7/30\n",
      "449/449 [==============================] - 551s 1s/step - loss: 1.2038 - accuracy: 0.5356 - val_loss: 1.1981 - val_accuracy: 0.5464\n",
      "Epoch 8/30\n",
      "449/449 [==============================] - 478s 1s/step - loss: 1.1778 - accuracy: 0.5487 - val_loss: 1.1979 - val_accuracy: 0.5456\n",
      "Epoch 9/30\n",
      "449/449 [==============================] - 443s 986ms/step - loss: 1.1538 - accuracy: 0.5586 - val_loss: 1.1899 - val_accuracy: 0.5542\n",
      "Epoch 10/30\n",
      "449/449 [==============================] - 435s 969ms/step - loss: 1.1343 - accuracy: 0.5616 - val_loss: 1.1661 - val_accuracy: 0.5567\n",
      "Epoch 11/30\n",
      "449/449 [==============================] - 435s 968ms/step - loss: 1.1112 - accuracy: 0.5738 - val_loss: 1.1681 - val_accuracy: 0.5609\n",
      "Epoch 12/30\n",
      "449/449 [==============================] - 446s 993ms/step - loss: 1.0870 - accuracy: 0.5823 - val_loss: 1.1656 - val_accuracy: 0.5575\n",
      "Epoch 13/30\n",
      "449/449 [==============================] - 438s 976ms/step - loss: 1.0666 - accuracy: 0.5924 - val_loss: 1.1605 - val_accuracy: 0.5609\n",
      "Epoch 14/30\n",
      "449/449 [==============================] - 435s 969ms/step - loss: 1.0463 - accuracy: 0.5998 - val_loss: 1.1721 - val_accuracy: 0.5626\n",
      "Epoch 15/30\n",
      "449/449 [==============================] - 438s 975ms/step - loss: 1.0242 - accuracy: 0.6091 - val_loss: 1.1519 - val_accuracy: 0.5645\n",
      "Epoch 16/30\n",
      "449/449 [==============================] - 440s 980ms/step - loss: 1.0027 - accuracy: 0.6154 - val_loss: 1.1795 - val_accuracy: 0.5575\n",
      "Epoch 17/30\n",
      "449/449 [==============================] - 551s 1s/step - loss: 0.9831 - accuracy: 0.6247 - val_loss: 1.1874 - val_accuracy: 0.5626\n",
      "Epoch 18/30\n",
      "449/449 [==============================] - 551s 1s/step - loss: 0.9759 - accuracy: 0.6274 - val_loss: 1.1565 - val_accuracy: 0.5656\n",
      "Epoch 19/30\n",
      "449/449 [==============================] - 548s 1s/step - loss: 0.9491 - accuracy: 0.6361 - val_loss: 1.1742 - val_accuracy: 0.5715\n",
      "Epoch 20/30\n",
      "449/449 [==============================] - 548s 1s/step - loss: 0.9272 - accuracy: 0.6455 - val_loss: 1.1830 - val_accuracy: 0.5637\n",
      "Epoch 21/30\n",
      "449/449 [==============================] - 549s 1s/step - loss: 0.9105 - accuracy: 0.6554 - val_loss: 1.1899 - val_accuracy: 0.5642\n",
      "Epoch 22/30\n",
      "449/449 [==============================] - 552s 1s/step - loss: 0.8944 - accuracy: 0.6569 - val_loss: 1.1910 - val_accuracy: 0.5729\n",
      "Epoch 23/30\n",
      "449/449 [==============================] - 553s 1s/step - loss: 0.8667 - accuracy: 0.6691 - val_loss: 1.1919 - val_accuracy: 0.5765\n",
      "Epoch 24/30\n",
      "449/449 [==============================] - 553s 1s/step - loss: 0.8662 - accuracy: 0.6723 - val_loss: 1.2198 - val_accuracy: 0.5734\n",
      "Epoch 25/30\n",
      "449/449 [==============================] - 548s 1s/step - loss: 0.8467 - accuracy: 0.6789 - val_loss: 1.2295 - val_accuracy: 0.5631\n",
      "Epoch 26/30\n",
      "449/449 [==============================] - 556s 1s/step - loss: 0.8284 - accuracy: 0.6850 - val_loss: 1.2089 - val_accuracy: 0.5843\n",
      "Epoch 27/30\n",
      "449/449 [==============================] - 553s 1s/step - loss: 0.8090 - accuracy: 0.6942 - val_loss: 1.2487 - val_accuracy: 0.5709\n",
      "Epoch 28/30\n",
      "449/449 [==============================] - 548s 1s/step - loss: 0.8001 - accuracy: 0.6981 - val_loss: 1.2410 - val_accuracy: 0.5651\n",
      "Epoch 29/30\n",
      "449/449 [==============================] - 551s 1s/step - loss: 0.7809 - accuracy: 0.7033 - val_loss: 1.2325 - val_accuracy: 0.5712\n",
      "Epoch 30/30\n",
      "449/449 [==============================] - 555s 1s/step - loss: 0.7584 - accuracy: 0.7159 - val_loss: 1.2604 - val_accuracy: 0.5743\n"
     ]
    },
    {
     "data": {
      "text/plain": [
       "<tensorflow.python.keras.callbacks.History at 0x14eb12dc790>"
      ]
     },
     "execution_count": 20,
     "metadata": {},
     "output_type": "execute_result"
    }
   ],
   "source": [
    "#Training the model\n",
    "model.fit(X_train, train_y,\n",
    "          batch_size=batch_size,\n",
    "          epochs=epochs,\n",
    "          verbose=1,\n",
    "          validation_data=(X_test, test_y),\n",
    "          shuffle=True)"
   ]
  },
  {
   "cell_type": "code",
   "execution_count": 21,
   "id": "6cb99e05",
   "metadata": {},
   "outputs": [],
   "source": [
    "#Saving the  model to  use it later on\n",
    "fer_json = model.to_json()\n",
    "with open(\"fer.json\", \"w\") as json_file:\n",
    "    json_file.write(fer_json)\n",
    "model.save_weights(\"fer2013.h5\")"
   ]
  },
  {
   "cell_type": "code",
   "execution_count": null,
   "id": "76b22a6e",
   "metadata": {},
   "outputs": [],
   "source": []
  }
 ],
 "metadata": {
  "kernelspec": {
   "display_name": "Python 3",
   "language": "python",
   "name": "python3"
  },
  "language_info": {
   "codemirror_mode": {
    "name": "ipython",
    "version": 3
   },
   "file_extension": ".py",
   "mimetype": "text/x-python",
   "name": "python",
   "nbconvert_exporter": "python",
   "pygments_lexer": "ipython3",
   "version": "3.8.8"
  }
 },
 "nbformat": 4,
 "nbformat_minor": 5
}
